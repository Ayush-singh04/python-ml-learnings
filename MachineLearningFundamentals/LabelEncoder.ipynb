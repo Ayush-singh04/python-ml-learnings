{
 "cells": [
  {
   "cell_type": "code",
   "execution_count": 1,
   "id": "b8bf1fca",
   "metadata": {},
   "outputs": [],
   "source": [
    "from sklearn.preprocessing import LabelEncoder\n",
    "import pandas as pd\n",
    "\n",
    "df = pd.read_csv(\"sample_data.csv\")\n"
   ]
  },
  {
   "cell_type": "code",
   "execution_count": 2,
   "id": "aa05fc6f-4908-42ff-955f-f94a2a669a2f",
   "metadata": {},
   "outputs": [],
   "source": [
    "df_label = df.copy()\n",
    "\n",
    "le = LabelEncoder()\n",
    "df_label[\"Gender_Encoded\"] = le.fit_transform(df_label[\"Gender\"])"
   ]
  },
  {
   "cell_type": "code",
   "execution_count": 9,
   "id": "73bc251e-c815-47e8-aed0-d58d08abc168",
   "metadata": {},
   "outputs": [
    {
     "name": "stdout",
     "output_type": "stream",
     "text": [
      "\n",
      "Label Encoded Data\n",
      "                  Name  Gender  Gender_Encoded\n",
      "0           John Smith    Male               1\n",
      "1        Sarah Johnson  Female               0\n",
      "2        Michael Brown    Male               1\n",
      "3          Emily Davis  Female               0\n",
      "4         David Wilson    Male               1\n",
      "5       Jessica Miller  Female               0\n",
      "6        Robert Taylor    Male               1\n",
      "7      Ashley Anderson  Female               0\n",
      "8   Christopher Thomas    Male               1\n",
      "9       Amanda Jackson  Female               0\n",
      "10       Matthew White    Male               1\n",
      "11       Lauren Harris  Female               0\n",
      "12       Daniel Martin    Male               1\n",
      "13  Stephanie Thompson  Female               0\n",
      "14       Andrew Garcia    Male               1\n",
      "15   Michelle Martinez  Female               0\n",
      "16     Joshua Robinson    Male               1\n",
      "17        Nicole Clark  Female               0\n",
      "18      Ryan Rodriguez    Male               1\n",
      "19      Samantha Lewis  Female               0\n",
      "20           Kevin Lee    Male               1\n",
      "21       Rachel Walker  Female               0\n",
      "22        Brandon Hall    Male               1\n",
      "23      Kimberly Allen  Female               0\n",
      "24          Eric Young    Male               1\n",
      "25      Lisa Hernandez  Female               0\n",
      "26          Jason King    Male               1\n",
      "27       Angela Wright  Female               0\n",
      "28        Justin Lopez    Male               1\n",
      "29        Melissa Hill  Female               0\n",
      "30         Aaron Scott    Male               1\n",
      "31       Crystal Green  Female               0\n",
      "32        Nathan Adams    Male               1\n",
      "33       Heather Baker  Female               0\n",
      "34     Jordan Gonzalez    Male               1\n",
      "35     Brittany Nelson  Female               0\n",
      "36        Tyler Carter    Male               1\n",
      "37    Vanessa Mitchell  Female               0\n",
      "38          Sean Perez    Male               1\n",
      "39     Tiffany Roberts  Female               0\n",
      "40       Carlos Turner    Male               1\n",
      "41     Monica Phillips  Female               0\n",
      "42      Keith Campbell    Male               1\n",
      "43      Jasmine Parker  Female               0\n",
      "44        Trevor Evans    Male               1\n",
      "45      Alexis Edwards  Female               0\n",
      "46       Blake Collins    Male               1\n",
      "47    Danielle Stewart  Female               0\n",
      "48       Corey Sanchez    Male               1\n",
      "49      Brianna Morris  Female               0\n"
     ]
    }
   ],
   "source": [
    "print(\"\\nLabel Encoded Data\")\n",
    "print(df_label[[\"Name\",\"Gender\",\"Gender_Encoded\"]])"
   ]
  },
  {
   "cell_type": "code",
   "execution_count": null,
   "id": "0b70f597-244b-4062-814e-8813953a69d7",
   "metadata": {},
   "outputs": [],
   "source": []
  }
 ],
 "metadata": {
  "kernelspec": {
   "display_name": "Python 3 (ipykernel)",
   "language": "python",
   "name": "python3"
  },
  "language_info": {
   "codemirror_mode": {
    "name": "ipython",
    "version": 3
   },
   "file_extension": ".py",
   "mimetype": "text/x-python",
   "name": "python",
   "nbconvert_exporter": "python",
   "pygments_lexer": "ipython3",
   "version": "3.13.7"
  }
 },
 "nbformat": 4,
 "nbformat_minor": 5
}
