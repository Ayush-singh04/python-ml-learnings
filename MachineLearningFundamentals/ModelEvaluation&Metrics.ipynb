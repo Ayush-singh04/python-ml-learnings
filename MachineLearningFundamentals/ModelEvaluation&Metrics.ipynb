{
 "cells": [
  {
   "cell_type": "code",
   "execution_count": 1,
   "id": "c69445dc-c40b-46e1-bc69-2f52e0e8bc92",
   "metadata": {},
   "outputs": [],
   "source": [
    "from sklearn.metrics import accuracy_score, precision_score, recall_score, f1_score\n",
    "\n",
    "# To Evaluate our model we need to import these modules from sklearn \n",
    "# These will check how good our model is."
   ]
  },
  {
   "cell_type": "code",
   "execution_count": 5,
   "id": "26de82f3-e284-4a84-8350-00e2616f942a",
   "metadata": {},
   "outputs": [
    {
     "name": "stdout",
     "output_type": "stream",
     "text": [
      "Accuracy :  0.7142857142857143\n",
      "Precision :  0.75\n",
      "Recall :  0.75\n",
      "F1 Score :  0.75\n"
     ]
    }
   ],
   "source": [
    "#  Here is the Basic syntax to Evaluate our model\n",
    "\n",
    "# True answers (what actually happend)\n",
    "y_true = [1,0,1,1,0,1,0]\n",
    "\n",
    "# Model's predictions (What it guessed)\n",
    "y_pred = [1,0,1,0,0,1,1]\n",
    "\n",
    "# Now we'll evaluate\n",
    "print(\"Accuracy : \", accuracy_score(y_true, y_pred))\n",
    "print(\"Precision : \", precision_score(y_true, y_pred))\n",
    "print(\"Recall : \", recall_score(y_true, y_pred))\n",
    "print(\"F1 Score : \", f1_score(y_true, y_pred))"
   ]
  },
  {
   "cell_type": "code",
   "execution_count": 8,
   "id": "8adda4fe-c5e8-471d-9c72-c67d43de7965",
   "metadata": {},
   "outputs": [
    {
     "name": "stdout",
     "output_type": "stream",
     "text": [
      "Confusion Matrix\n",
      "[[1 1]\n",
      " [1 3]]\n"
     ]
    }
   ],
   "source": [
    "from sklearn.metrics import confusion_matrix\n",
    "\n",
    "y_true = [1,0,1,1,0,1]\n",
    "y_pred = [1,0,0,1,1,1]\n",
    "\n",
    "cm = confusion_matrix(y_true, y_pred)\n",
    "\n",
    "print(\"Confusion Matrix\")\n",
    "print(cm)"
   ]
  },
  {
   "cell_type": "code",
   "execution_count": 19,
   "id": "fa168a75-c085-41cc-abea-8ab586f217b9",
   "metadata": {},
   "outputs": [],
   "source": [
    "#  MAE = Mean absolute error\n",
    "   # 1- Take the mistake difference\n",
    "   # 2- Remove the minus sign\n",
    "   # 3- Add all the mistakes\n",
    "   # 4- Divide by the total value \n",
    " "
   ]
  },
  {
   "cell_type": "code",
   "execution_count": 20,
   "id": "42ff0ea8-61fe-4530-9cf3-abd664bb978e",
   "metadata": {},
   "outputs": [],
   "source": [
    "#  MSE = Mean Squared error\n",
    "   # 1- Square all the mistakes\n",
    "   # 2- Add all of them after Squaring\n",
    "   # 3- Divide by the total value \n",
    " "
   ]
  },
  {
   "cell_type": "code",
   "execution_count": 21,
   "id": "f60a7444-3110-4484-a057-289836956e08",
   "metadata": {},
   "outputs": [],
   "source": [
    "#  RMSE = Root Mean Squared error\n",
    "   #  Gives the Root vlaue of MSE \n",
    " "
   ]
  },
  {
   "cell_type": "code",
   "execution_count": 23,
   "id": "82fcf56a-53ff-42e9-bd98-febdb8326bba",
   "metadata": {},
   "outputs": [
    {
     "name": "stdout",
     "output_type": "stream",
     "text": [
      "MAE : On average off by:  7.5\n",
      "MSE : Squared Mistake Value:  62.5\n",
      "RMSE : Final Realistic error:  7.905694150420948\n"
     ]
    }
   ],
   "source": [
    "from sklearn.metrics import mean_absolute_error, mean_squared_error\n",
    "import numpy as np\n",
    "\n",
    "# Real Scores\n",
    "real_scores = [90, 60, 80, 100]\n",
    "\n",
    "# Model's Answers\n",
    "predicted_scores = [85, 70, 70, 95]\n",
    "\n",
    "mae = mean_absolute_error(real_scores, predicted_scores)\n",
    "\n",
    "mse = mean_squared_error(real_scores, predicted_scores)\n",
    "\n",
    "rmse = np.sqrt(mse)\n",
    "\n",
    "print(\"MAE : On average off by: \", mae)\n",
    "print(\"MSE : Squared Mistake Value: \", mse)\n",
    "print(\"RMSE : Final Realistic error: \", rmse)"
   ]
  },
  {
   "cell_type": "code",
   "execution_count": null,
   "id": "d02a1db7-cf12-4ee0-989d-5f40bb7997c4",
   "metadata": {},
   "outputs": [],
   "source": []
  }
 ],
 "metadata": {
  "kernelspec": {
   "display_name": "Python 3 (ipykernel)",
   "language": "python",
   "name": "python3"
  },
  "language_info": {
   "codemirror_mode": {
    "name": "ipython",
    "version": 3
   },
   "file_extension": ".py",
   "mimetype": "text/x-python",
   "name": "python",
   "nbconvert_exporter": "python",
   "pygments_lexer": "ipython3",
   "version": "3.13.7"
  }
 },
 "nbformat": 4,
 "nbformat_minor": 5
}
