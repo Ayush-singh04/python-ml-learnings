{
 "cells": [
  {
   "cell_type": "code",
   "execution_count": 10,
   "id": "77c6abb5-3ad4-405c-9fdd-f3849efb3a16",
   "metadata": {},
   "outputs": [
    {
     "name": "stdin",
     "output_type": "stream",
     "text": [
      "Enter the Hours you studied = 10\n"
     ]
    },
    {
     "name": "stdout",
     "output_type": "stream",
     "text": [
      " After Studying 10.0 hours you may score around [[141.14285714]]\n"
     ]
    }
   ],
   "source": [
    "# LinearRegression\n",
    "\n",
    "from sklearn.linear_model import LinearRegression\n",
    "\n",
    "x = [[1],[2],[3],[4],[5],[6]]\n",
    "y = [[40],[45],[55],[70],[85],[95]]\n",
    "\n",
    "model = LinearRegression() # Created an object of LinearRegresion class (in siekit-learn package)\n",
    "\n",
    "model.fit(x,y)\n",
    "\n",
    "hours = float(input(\"Enter the Hours you studied =\"))\n",
    "\n",
    "predicted_marks = model.predict([[hours]])\n",
    "\n",
    "print(f\" After Studying {hours} hours you may score around {predicted_marks}\") "
   ]
  },
  {
   "cell_type": "code",
   "execution_count": 13,
   "id": "feab4345-16d0-4051-aca7-e246614d3c14",
   "metadata": {},
   "outputs": [
    {
     "name": "stdin",
     "output_type": "stream",
     "text": [
      "Enter the Hours you studied = 2\n"
     ]
    },
    {
     "name": "stdout",
     "output_type": "stream",
     "text": [
      "After Studying 2.0 hours you are likely to FAIL!\n"
     ]
    }
   ],
   "source": [
    "# LogisticRegression\n",
    "from sklearn.linear_model import LogisticRegression\n",
    "\n",
    "x = [[1],[2],[3],[4],[5],[6]]\n",
    "y = [0,0,1,1,1,1] # reslut 0 = Fail, 1 = Pass\n",
    "\n",
    "model = LogisticRegression()\n",
    "model.fit(x,y)\n",
    "\n",
    "# Take input from the user\n",
    "\n",
    "hours = float(input(\"Enter the Hours you studied =\"))\n",
    "\n",
    "result = model.predict([[hours]])[0]\n",
    "\n",
    "if result==1 :\n",
    "    print(f\"After Studying {hours} hours you are likely to PASS!\")\n",
    "else:\n",
    "    print(f\"After Studying {hours} hours you are likely to FAIL!\")\n"
   ]
  },
  {
   "cell_type": "code",
   "execution_count": 17,
   "id": "7b94d387-8ba5-4dbf-ac48-f5c836c5b38f",
   "metadata": {},
   "outputs": [
    {
     "name": "stdin",
     "output_type": "stream",
     "text": [
      "Enter the Weight in grams :  23\n",
      "Enter the size in cm :  10\n"
     ]
    },
    {
     "name": "stdout",
     "output_type": "stream",
     "text": [
      "This is an Apple!\n"
     ]
    }
   ],
   "source": [
    "# KNN-Regression\n",
    "from sklearn.neighbors import KNeighborsClassifier\n",
    "\n",
    "# We'll give Weight and Size of Random fruits and predict it wheather it's an Aplle or Orange\n",
    "x = [[180,7],[200,7.5],[250,8],[300,8.5],[330,9],[360,9.5]]\n",
    "# 0 = Apple , 1 = Orange\n",
    "y = [0,0,0,1,1,1]\n",
    "\n",
    "# Creating an object called Model\n",
    "\n",
    "model = KNeighborsClassifier(n_neighbors = 3)\n",
    "model.fit(x,y)\n",
    "\n",
    "weight = float(input(\"Enter the Weight in grams : \"))\n",
    "size = float(input(\"Enter the size in cm : \"))\n",
    "\n",
    "prediction = model.predict([[weight, size]])[0] # 0 here means that we only want one value\n",
    "\n",
    "if prediction == 0:\n",
    "    print(\"This is an Apple!\")\n",
    "else:\n",
    "    print(\"This is an Orange!\")"
   ]
  },
  {
   "cell_type": "code",
   "execution_count": 18,
   "id": "6e079e47-cf95-460f-b211-4518876daf82",
   "metadata": {},
   "outputs": [
    {
     "name": "stdin",
     "output_type": "stream",
     "text": [
      "Enter the Fruit size in cm:  9\n",
      "Enter the color shade(1-10) :  2.5\n"
     ]
    },
    {
     "name": "stdout",
     "output_type": "stream",
     "text": [
      "This is likely an Apple!\n"
     ]
    }
   ],
   "source": [
    "#  Decision Tree\n",
    "\n",
    "from sklearn.tree import DecisionTreeClassifier\n",
    "x = [[7,2],[8,3],[9,8],[10,9]]\n",
    "\n",
    "y = [0, 0, 1, 1] # 0 = Apple , 1 = Orange\n",
    "\n",
    "model = DecisionTreeClassifier()\n",
    "\n",
    "model.fit(x,y)\n",
    "\n",
    "size = float(input(\"Enter the Fruit size in cm: \"))\n",
    "shade = float(input(\"Enter the color shade(1-10) : \"))\n",
    "\n",
    "result = model.predict([[size , shade]])\n",
    "\n",
    "if result == 0:\n",
    "    print(\"This is likely an Apple!\")\n",
    "else:\n",
    "    print(\"This is likely an Orange!\")"
   ]
  },
  {
   "cell_type": "code",
   "execution_count": null,
   "id": "a5557303-3e8f-404c-a3c2-ab58b2a90848",
   "metadata": {},
   "outputs": [],
   "source": []
  }
 ],
 "metadata": {
  "kernelspec": {
   "display_name": "Python 3 (ipykernel)",
   "language": "python",
   "name": "python3"
  },
  "language_info": {
   "codemirror_mode": {
    "name": "ipython",
    "version": 3
   },
   "file_extension": ".py",
   "mimetype": "text/x-python",
   "name": "python",
   "nbconvert_exporter": "python",
   "pygments_lexer": "ipython3",
   "version": "3.13.7"
  }
 },
 "nbformat": 4,
 "nbformat_minor": 5
}
