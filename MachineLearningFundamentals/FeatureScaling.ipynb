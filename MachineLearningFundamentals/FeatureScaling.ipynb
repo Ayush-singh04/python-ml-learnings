{
 "cells": [
  {
   "cell_type": "code",
   "execution_count": 24,
   "id": "11e3327a-7432-4c0a-a486-0b5f7e4bc440",
   "metadata": {},
   "outputs": [],
   "source": [
    "from sklearn.preprocessing import StandardScaler , MinMaxScaler\n",
    "from sklearn.model_selection import train_test_split\n",
    "import pandas as pd"
   ]
  },
  {
   "cell_type": "code",
   "execution_count": 5,
   "id": "bcce351a-8e19-4fbc-8cfe-06e96403312b",
   "metadata": {},
   "outputs": [
    {
     "ename": "TypeError",
     "evalue": "TransformerMixin.fit_transform() missing 1 required positional argument: 'X'",
     "output_type": "error",
     "traceback": [
      "\u001b[31m---------------------------------------------------------------------------\u001b[39m",
      "\u001b[31mTypeError\u001b[39m                                 Traceback (most recent call last)",
      "\u001b[36mCell\u001b[39m\u001b[36m \u001b[39m\u001b[32mIn[5]\u001b[39m\u001b[32m, line 2\u001b[39m\n\u001b[32m      1\u001b[39m scaler = StandardScaler()\n\u001b[32m----> \u001b[39m\u001b[32m2\u001b[39m X_scaled = \u001b[43mscaler\u001b[49m\u001b[43m.\u001b[49m\u001b[43mfit_transform\u001b[49m\u001b[43m(\u001b[49m\u001b[43m)\u001b[49m\n\u001b[32m      4\u001b[39m \u001b[38;5;66;03m# When we want the values to be around a specific scale\u001b[39;00m\n\u001b[32m      5\u001b[39m scaler = MinMaxScaler()\n",
      "\u001b[31mTypeError\u001b[39m: TransformerMixin.fit_transform() missing 1 required positional argument: 'X'"
     ]
    }
   ],
   "source": [
    "# scaler = StandardScaler()\n",
    "# X_scaled = scaler.fit_transform()\n",
    "\n",
    "# When we want the values to be around a specific scale\n",
    "# scaler = MinMaxScaler()\n",
    "# X_scaled = scaler.fit_transform"
   ]
  },
  {
   "cell_type": "code",
   "execution_count": 25,
   "id": "f13854b2-0bbc-4afd-bc52-c3983b3a8770",
   "metadata": {},
   "outputs": [],
   "source": [
    "data = {'Hours_Studied' :[1,2,3,4,5,6],\n",
    "       'Marks_Scored': [40,45,55,70,85,95]}\n",
    "\n",
    "df = pd.DataFrame(data)"
   ]
  },
  {
   "cell_type": "code",
   "execution_count": 26,
   "id": "a0edc7a3-4ad7-4ad8-806a-39bdfadfd6be",
   "metadata": {},
   "outputs": [],
   "source": [
    "# StandardScaler\n",
    "standard_scaler = StandardScaler() # we created an object here of StandardScaler\n",
    "standard_scaled = standard_scaler.fit_transform(df)"
   ]
  },
  {
   "cell_type": "code",
   "execution_count": 27,
   "id": "172830a7-3d76-487c-b970-8567860bec6a",
   "metadata": {},
   "outputs": [
    {
     "name": "stdout",
     "output_type": "stream",
     "text": [
      "Standard Scaler Output: \n",
      "   Hours_Studied  Marks_Scored\n",
      "0       -1.46385     -1.237179\n",
      "1       -0.87831     -0.989743\n",
      "2       -0.29277     -0.494872\n",
      "3        0.29277      0.247436\n",
      "4        0.87831      0.989743\n",
      "5        1.46385      1.484615\n"
     ]
    }
   ],
   "source": [
    "# It will Scale All the Values Using this formula:\n",
    "# ( Z = x-μ/σ) or \n",
    "# (Scaled value = Actual value - mean of the col / Standard Deviation of the col)\n",
    "# Z = Scaled value\n",
    "print(\"Standard Scaler Output: \")\n",
    "print(pd.DataFrame(standard_scaled, columns = ['Hours_Studied','Marks_Scored']))"
   ]
  },
  {
   "cell_type": "code",
   "execution_count": 28,
   "id": "484c317d-6af8-4542-8c8c-be1d9b0824ac",
   "metadata": {},
   "outputs": [
    {
     "name": "stdout",
     "output_type": "stream",
     "text": [
      "MinmaxScaler Output: \n",
      "   Hours_Studied  Marks_Scored\n",
      "0            0.0      0.000000\n",
      "1            0.2      0.090909\n",
      "2            0.4      0.272727\n",
      "3            0.6      0.545455\n",
      "4            0.8      0.818182\n",
      "5            1.0      1.000000\n"
     ]
    }
   ],
   "source": [
    "minmax_scaler = MinMaxScaler() # we created an object here of MinMaxScaler\n",
    "minmax_scaled = minmax_scaler.fit_transform(df)\n",
    "\n",
    "# It will Scale All the Values B/W (0-1)\n",
    "\n",
    "print(\"MinmaxScaler Output: \")\n",
    "print(pd.DataFrame(minmax_scaled, columns = ['Hours_Studied','Marks_Scored']))\n"
   ]
  },
  {
   "cell_type": "code",
   "execution_count": 32,
   "id": "8d156141-73cf-4600-8997-26876029fe3a",
   "metadata": {},
   "outputs": [
    {
     "name": "stdout",
     "output_type": "stream",
     "text": [
      "Training Data\n",
      "   Hours_Studied\n",
      "5              6\n",
      "2              3\n",
      "4              5\n",
      "3              4\n",
      "Tested Data\n",
      "   Hours_Studied\n",
      "0              1\n",
      "1              2\n"
     ]
    }
   ],
   "source": [
    "X = df[[\"Hours_Studied\"]] # This will be the given input to our model\n",
    "Y = df[[\"Marks_Scored\"]]  # This will be the output our model will produce\n",
    "\n",
    "X_train, X_test, Y_train, Y_test = train_test_split(X, Y, test_size = 0.2, random_state = 42)\n",
    "\n",
    "print(\"Training Data\")\n",
    "print(X_train)\n",
    "\n",
    "print(\"Tested Data\")\n",
    "print(X_test)"
   ]
  },
  {
   "cell_type": "code",
   "execution_count": null,
   "id": "1363177b-7712-4c1d-b932-ef30b6a2fb80",
   "metadata": {},
   "outputs": [],
   "source": []
  },
  {
   "cell_type": "code",
   "execution_count": null,
   "id": "b48a2951-5944-40bc-9c25-18ad88ff2bad",
   "metadata": {},
   "outputs": [],
   "source": []
  }
 ],
 "metadata": {
  "kernelspec": {
   "display_name": "Python 3 (ipykernel)",
   "language": "python",
   "name": "python3"
  },
  "language_info": {
   "codemirror_mode": {
    "name": "ipython",
    "version": 3
   },
   "file_extension": ".py",
   "mimetype": "text/x-python",
   "name": "python",
   "nbconvert_exporter": "python",
   "pygments_lexer": "ipython3",
   "version": "3.13.7"
  }
 },
 "nbformat": 4,
 "nbformat_minor": 5
}
